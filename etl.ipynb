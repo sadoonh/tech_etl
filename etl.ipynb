{
 "cells": [
  {
   "cell_type": "code",
   "execution_count": 1,
   "metadata": {},
   "outputs": [],
   "source": [
    "import pandas as pd\n",
    "import os\n",
    "import shutil\n",
    "import csv\n",
    "from xls2csv_package import Xlsx2csv\n",
    "import extract\n",
    "from transform import *\n",
    "from tech_transform.solar.yellow_solar_assump import *"
   ]
  },
  {
   "cell_type": "code",
   "execution_count": 2,
   "metadata": {},
   "outputs": [],
   "source": [
    "solar = 'C:/Users/sadoo/OneDrive/Desktop/Lambda/solar_1.xlsx'\n",
    "solar_csv = 'C:/Users/sadoo/OneDrive/Desktop/Lambda/solar_1.csv'\n",
    "battery = 'C:/Users/sadoo/OneDrive/Desktop/Lambda/battery_1.xlsx'\n",
    "\n",
    "raw_excel = 'C:/Users/sadoo/OneDrive/Desktop/Lambda/raw_excel'\n",
    "raw_csv = 'C:/Users/sadoo/OneDrive/Desktop/Lambda/raw_csv'\n",
    "archive_excel = 'C:/Users/sadoo/OneDrive/Desktop/Lambda/archive_excel'\n",
    "tech_csv = 'C:/Users/sadoo/OneDrive/Desktop/Lambda/tech_csv'"
   ]
  },
  {
   "cell_type": "code",
   "execution_count": 3,
   "metadata": {},
   "outputs": [],
   "source": [
    "def convert_xlsx_files_in_directory(source_directory, archive_directory, processed_directory):\n",
    "    # Create the archive and processed directories if they don't exist\n",
    "    if not os.path.exists(archive_directory):\n",
    "        os.makedirs(archive_directory)\n",
    "    \n",
    "    if not os.path.exists(processed_directory):\n",
    "        os.makedirs(processed_directory)\n",
    "    \n",
    "    # Lists of sheet names for each category\n",
    "    pre_sheets = [\"Pre-Estimation\", \"Preestimation\"]\n",
    "    assump_sheets = [\"Assump\", \"Assumption\"]\n",
    "    model_sheets = [\"Model\", \"Model-sheet\"]\n",
    "    \n",
    "    # Get the list of .xlsx files in the source directory\n",
    "    xlsx_files = [f for f in os.listdir(source_directory) if f.endswith(\".xlsx\")]\n",
    "    total_files = len(xlsx_files)\n",
    "    \n",
    "    # Loop through all .xlsx files in the source directory\n",
    "    for index, filename in enumerate(xlsx_files, 1):\n",
    "        xlsx_file_path = os.path.join(source_directory, filename)\n",
    "        base_file_name = os.path.splitext(filename)[0]\n",
    "        sheet_found = False\n",
    "\n",
    "        # Check for and convert Pre-Estimation sheets\n",
    "        for sheet_name in pre_sheets:\n",
    "            if convert_excel_to_csv(xlsx_file_path, sheet_name, processed_directory):\n",
    "                sheet_found = True\n",
    "\n",
    "        # Check for and convert Assumption sheets\n",
    "        for sheet_name in assump_sheets:\n",
    "            if convert_excel_to_csv(xlsx_file_path, sheet_name, processed_directory):\n",
    "                sheet_found = True\n",
    "\n",
    "        # Check for and convert Model sheets\n",
    "        for sheet_name in model_sheets:\n",
    "            if convert_excel_to_csv(xlsx_file_path, sheet_name, processed_directory):\n",
    "                sheet_found = True\n",
    "\n",
    "        # If any sheet was processed, move the file to the archive directory\n",
    "        if sheet_found:\n",
    "            shutil.move(xlsx_file_path, os.path.join(archive_directory, filename))\n",
    "            print(f\"({index}/{total_files}) Processed {filename} and moved to archive.\")\n",
    "\n",
    "def convert_excel_to_csv(xlsx_file_path, sheet_name, processed_directory):\n",
    "    # Get the base name of the Excel file without the extension\n",
    "    base_file_name = os.path.splitext(os.path.basename(xlsx_file_path))[0]\n",
    "\n",
    "    # Concatenate the base file name with the sheet name for the output CSV file\n",
    "    csv_file_path = os.path.join(processed_directory, f\"{base_file_name}_{sheet_name}.csv\")\n",
    "\n",
    "    # Ensure the file exists before processing\n",
    "    if not os.path.exists(xlsx_file_path):\n",
    "        return None\n",
    "\n",
    "    # Create an instance of Xlsx2csv with the provided Excel file\n",
    "    try:\n",
    "        xlsx_to_csv_converter = Xlsx2csv(xlsx_file_path, outputencoding=\"utf-8\")\n",
    "    except Exception as e:\n",
    "        return None\n",
    "\n",
    "    # Get the sheet ID from the sheet name\n",
    "    sheet_id = xlsx_to_csv_converter.getSheetIdByName(sheet_name)\n",
    "\n",
    "    # If the sheet is not found, return None\n",
    "    if not sheet_id:\n",
    "        return None\n",
    "\n",
    "    try:\n",
    "        # Convert the specified sheet to a CSV file\n",
    "        xlsx_to_csv_converter.convert(csv_file_path, sheetid=sheet_id)\n",
    "    except Exception as e:\n",
    "        return None\n",
    "\n",
    "    return csv_file_path"
   ]
  },
  {
   "cell_type": "code",
   "execution_count": 4,
   "metadata": {},
   "outputs": [],
   "source": [
    "def move_csv_files_to_final_destination(processed_directory, final_destination):\n",
    "    # Subfolders inside the final destination\n",
    "    solar_dir = os.path.join(final_destination, 'solar')\n",
    "    battery_dir = os.path.join(final_destination, 'battery')\n",
    "    wind_dir = os.path.join(final_destination, 'wind')\n",
    "    tline_dir = os.path.join(final_destination, 'tline')\n",
    "\n",
    "    # List all CSV files in the processed directory\n",
    "    csv_files = [f for f in os.listdir(processed_directory) if f.endswith(\".csv\")]\n",
    "\n",
    "    # Define the patterns for each type (searching in file contents)\n",
    "    solar_patterns = [\"S_ER_1\", \"S_A_1\", \"S_M_1\"]\n",
    "    battery_patterns = [\"B_ER_1\", \"B_A_1\", \"B_M_1\"]\n",
    "    wind_patterns = [\"W_ER_1\", \"W_A_1\", \"W_M_1\"]\n",
    "    tline_patterns = [\"T_ER_1\", \"T_A_1\", \"T_M_1\"]\n",
    "\n",
    "    # Function to check if any of the patterns are found in the CSV file contents\n",
    "    def file_contains_any_pattern(file_path, patterns):\n",
    "        try:\n",
    "            with open(file_path, 'r', newline='', encoding='utf-8') as csvfile:\n",
    "                reader = csv.reader(csvfile)\n",
    "                for row in reader:\n",
    "                    # Check if any pattern exists in any of the row's cells\n",
    "                    if any(pattern in cell for cell in row for pattern in patterns):\n",
    "                        return True\n",
    "        except Exception as e:\n",
    "            print(f\"Error reading {file_path}: {e}\")\n",
    "        return False\n",
    "\n",
    "    # Iterate through each CSV file and move it to the correct folder\n",
    "    for csv_file in csv_files:\n",
    "        csv_file_path = os.path.join(processed_directory, csv_file)\n",
    "\n",
    "        # Check if the CSV file content matches any of the solar patterns\n",
    "        if file_contains_any_pattern(csv_file_path, solar_patterns):\n",
    "            shutil.move(csv_file_path, os.path.join(solar_dir, csv_file))\n",
    "            print(f\"Moved {csv_file} to solar folder.\")\n",
    "        \n",
    "        # Check if the CSV file content matches any of the battery patterns\n",
    "        elif file_contains_any_pattern(csv_file_path, battery_patterns):\n",
    "            shutil.move(csv_file_path, os.path.join(battery_dir, csv_file))\n",
    "            print(f\"Moved {csv_file} to battery folder.\")\n",
    "        \n",
    "        # Check if the CSV file content matches any of the wind patterns\n",
    "        elif file_contains_any_pattern(csv_file_path, wind_patterns):\n",
    "            shutil.move(csv_file_path, os.path.join(wind_dir, csv_file))\n",
    "            print(f\"Moved {csv_file} to wind folder.\")\n",
    "        \n",
    "        # Check if the CSV file content matches any of the tline patterns\n",
    "        elif file_contains_any_pattern(csv_file_path, tline_patterns):\n",
    "            shutil.move(csv_file_path, os.path.join(tline_dir, csv_file))\n",
    "            print(f\"Moved {csv_file} to tline folder.\")\n",
    "        \n",
    "        else:\n",
    "            print(f\"File {csv_file} does not match any pattern.\")"
   ]
  },
  {
   "cell_type": "code",
   "execution_count": 9,
   "metadata": {},
   "outputs": [
    {
     "name": "stdout",
     "output_type": "stream",
     "text": [
      "(1/4) Processed battery.xlsx and moved to archive.\n",
      "(2/4) Processed solar.xlsx and moved to archive.\n",
      "(3/4) Processed wind.xlsx and moved to archive.\n",
      "(4/4) Processed wind_1.xlsx and moved to archive.\n"
     ]
    }
   ],
   "source": [
    "convert_xlsx_files_in_directory(raw_excel, archive_excel, raw_csv)"
   ]
  },
  {
   "cell_type": "code",
   "execution_count": 18,
   "metadata": {},
   "outputs": [
    {
     "name": "stdout",
     "output_type": "stream",
     "text": [
      "Moved battery_Assump.csv to battery folder.\n",
      "Moved battery_Model.csv to battery folder.\n",
      "Moved battery_Pre-Estimation.csv to battery folder.\n",
      "Moved solar_Assump.csv to solar folder.\n",
      "Moved solar_Model.csv to solar folder.\n",
      "Moved solar_Pre-Estimation.csv to solar folder.\n",
      "Moved wind_1_Assump.csv to wind folder.\n",
      "Moved wind_1_Model.csv to wind folder.\n",
      "Moved wind_1_Pre-Estimation.csv to wind folder.\n",
      "Moved wind_Assump.csv to wind folder.\n",
      "Moved wind_Model.csv to wind folder.\n",
      "Moved wind_Pre-Estimation.csv to wind folder.\n"
     ]
    }
   ],
   "source": [
    "move_csv_files_to_final_destination(raw_csv, tech_csv)"
   ]
  },
  {
   "cell_type": "code",
   "execution_count": 3,
   "metadata": {},
   "outputs": [
    {
     "name": "stdout",
     "output_type": "stream",
     "text": [
      "Missing one or more of Pre, Assump, or Model files in the tline directory.\n"
     ]
    },
    {
     "data": {
      "text/plain": [
       "{'solar': (None, None, None),\n",
       " 'battery': (None, None, None),\n",
       " 'wind': (None, None, None),\n",
       " 'tline': (None, None, None)}"
      ]
     },
     "execution_count": 3,
     "metadata": {},
     "output_type": "execute_result"
    }
   ],
   "source": [
    "process_all_directories_in_order(tech_csv)"
   ]
  },
  {
   "cell_type": "code",
   "execution_count": 2,
   "metadata": {},
   "outputs": [],
   "source": [
    "df_assump = pd.read_csv('C:/Users/sadoo/OneDrive/Desktop/Lambda/tech_csv/solar/solar_Assump.csv', header=None)\n",
    "df_pre = pd.read_csv('C:/Users/sadoo/OneDrive/Desktop/Lambda/tech_csv/solar/solar_Pre-Estimation.csv', header=None)\n",
    "df_model = pd.read_csv('C:/Users/sadoo/OneDrive/Desktop/Lambda/tech_csv/solar/solar_Model.csv', header=None)"
   ]
  },
  {
   "cell_type": "code",
   "execution_count": 3,
   "metadata": {},
   "outputs": [],
   "source": [
    "solar_pre = transform_solar_pre(df_pre, 'solar', 'whatever')"
   ]
  },
  {
   "cell_type": "code",
   "execution_count": 6,
   "metadata": {},
   "outputs": [
    {
     "name": "stderr",
     "output_type": "stream",
     "text": [
      "c:\\Users\\Sadoo\\OneDrive\\Desktop\\Lambda\\tech_transform\\solar\\yellow_solar_assump.py:158: FutureWarning: Setting an item of incompatible dtype is deprecated and will raise an error in a future version of pandas. Value 'Estimator' has dtype incompatible with float64, please explicitly cast to a compatible dtype first.\n",
      "  df.at[1, col] = estimator  # Replace with 'Estimator' in the first row\n"
     ]
    }
   ],
   "source": [
    "solar_assump = transform_solar_assump(df_assump ,solar_pre, 'solar','whatever')"
   ]
  }
 ],
 "metadata": {
  "kernelspec": {
   "display_name": "Python 3",
   "language": "python",
   "name": "python3"
  },
  "language_info": {
   "codemirror_mode": {
    "name": "ipython",
    "version": 3
   },
   "file_extension": ".py",
   "mimetype": "text/x-python",
   "name": "python",
   "nbconvert_exporter": "python",
   "pygments_lexer": "ipython3",
   "version": "3.12.1"
  }
 },
 "nbformat": 4,
 "nbformat_minor": 2
}
