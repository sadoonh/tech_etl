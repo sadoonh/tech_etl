{
 "cells": [
  {
   "cell_type": "code",
   "execution_count": 2,
   "metadata": {},
   "outputs": [],
   "source": [
    "import pandas as pd\n",
    "import os\n",
    "import shutil\n",
    "import csv\n",
    "from xls2csv_package import Xlsx2csv"
   ]
  },
  {
   "cell_type": "code",
   "execution_count": 14,
   "metadata": {},
   "outputs": [],
   "source": [
    "solar = 'C:/Users/sadoo/OneDrive/Desktop/Lambda/solar_1.xlsx'\n",
    "solar_csv = 'C:/Users/sadoo/OneDrive/Desktop/Lambda/solar_1.csv'\n",
    "battery = 'C:/Users/sadoo/OneDrive/Desktop/Lambda/battery_1.xlsx'\n",
    "\n",
    "raw_excel = 'C:/Users/sadoo/OneDrive/Desktop/Lambda/raw_excel'\n",
    "raw_csv = 'C:/Users/sadoo/OneDrive/Desktop/Lambda/raw_csv'\n",
    "archive_excel = 'C:/Users/sadoo/OneDrive/Desktop/Lambda/archive_excel'\n",
    "final_destination = 'C:/Users/sadoo/OneDrive/Desktop/Lambda/final_destination'"
   ]
  },
  {
   "cell_type": "code",
   "execution_count": 4,
   "metadata": {},
   "outputs": [],
   "source": [
    "def convert_xlsx_files_in_directory(source_directory, archive_directory, processed_directory):\n",
    "    # Create the archive and processed directories if they don't exist\n",
    "    if not os.path.exists(archive_directory):\n",
    "        os.makedirs(archive_directory)\n",
    "    \n",
    "    if not os.path.exists(processed_directory):\n",
    "        os.makedirs(processed_directory)\n",
    "    \n",
    "    # Lists of sheet names for each category\n",
    "    pre_sheets = [\"Pre-Estimation\", \"Preestimation\"]\n",
    "    assump_sheets = [\"Assump\", \"Assumption\"]\n",
    "    model_sheets = [\"Model\", \"Model-sheet\"]\n",
    "    \n",
    "    # Get the list of .xlsx files in the source directory\n",
    "    xlsx_files = [f for f in os.listdir(source_directory) if f.endswith(\".xlsx\")]\n",
    "    total_files = len(xlsx_files)\n",
    "    \n",
    "    # Loop through all .xlsx files in the source directory\n",
    "    for index, filename in enumerate(xlsx_files, 1):\n",
    "        xlsx_file_path = os.path.join(source_directory, filename)\n",
    "        base_file_name = os.path.splitext(filename)[0]\n",
    "        sheet_found = False\n",
    "\n",
    "        # Check for and convert Pre-Estimation sheets\n",
    "        for sheet_name in pre_sheets:\n",
    "            if convert_excel_to_csv(xlsx_file_path, sheet_name, processed_directory):\n",
    "                sheet_found = True\n",
    "\n",
    "        # Check for and convert Assumption sheets\n",
    "        for sheet_name in assump_sheets:\n",
    "            if convert_excel_to_csv(xlsx_file_path, sheet_name, processed_directory):\n",
    "                sheet_found = True\n",
    "\n",
    "        # Check for and convert Model sheets\n",
    "        for sheet_name in model_sheets:\n",
    "            if convert_excel_to_csv(xlsx_file_path, sheet_name, processed_directory):\n",
    "                sheet_found = True\n",
    "\n",
    "        # If any sheet was processed, move the file to the archive directory\n",
    "        if sheet_found:\n",
    "            shutil.move(xlsx_file_path, os.path.join(archive_directory, filename))\n",
    "            print(f\"({index}/{total_files}) Processed {filename} and moved to archive.\")\n",
    "\n",
    "def convert_excel_to_csv(xlsx_file_path, sheet_name, processed_directory):\n",
    "    # Get the base name of the Excel file without the extension\n",
    "    base_file_name = os.path.splitext(os.path.basename(xlsx_file_path))[0]\n",
    "\n",
    "    # Concatenate the base file name with the sheet name for the output CSV file\n",
    "    csv_file_path = os.path.join(processed_directory, f\"{base_file_name}_{sheet_name}.csv\")\n",
    "\n",
    "    # Ensure the file exists before processing\n",
    "    if not os.path.exists(xlsx_file_path):\n",
    "        return None\n",
    "\n",
    "    # Create an instance of Xlsx2csv with the provided Excel file\n",
    "    try:\n",
    "        xlsx_to_csv_converter = Xlsx2csv(xlsx_file_path, outputencoding=\"utf-8\")\n",
    "    except Exception as e:\n",
    "        return None\n",
    "\n",
    "    # Get the sheet ID from the sheet name\n",
    "    sheet_id = xlsx_to_csv_converter.getSheetIdByName(sheet_name)\n",
    "\n",
    "    # If the sheet is not found, return None\n",
    "    if not sheet_id:\n",
    "        return None\n",
    "\n",
    "    try:\n",
    "        # Convert the specified sheet to a CSV file\n",
    "        xlsx_to_csv_converter.convert(csv_file_path, sheetid=sheet_id)\n",
    "    except Exception as e:\n",
    "        return None\n",
    "\n",
    "    return csv_file_path"
   ]
  },
  {
   "cell_type": "code",
   "execution_count": 5,
   "metadata": {},
   "outputs": [],
   "source": [
    "def move_csv_files_to_final_destination(processed_directory, final_destination):\n",
    "    # Subfolders inside the final destination\n",
    "    solar_dir = os.path.join(final_destination, 'solar')\n",
    "    battery_dir = os.path.join(final_destination, 'battery')\n",
    "    wind_dir = os.path.join(final_destination, 'wind')\n",
    "    tline_dir = os.path.join(final_destination, 'tline')\n",
    "\n",
    "    # List all CSV files in the processed directory\n",
    "    csv_files = [f for f in os.listdir(processed_directory) if f.endswith(\".csv\")]\n",
    "\n",
    "    # Define the patterns for each type (searching in file contents)\n",
    "    solar_patterns = [\"S_ER_1\", \"S_A_1\", \"S_M_1\"]\n",
    "    battery_patterns = [\"B_ER_1\", \"B_A_1\", \"B_M_1\"]\n",
    "    wind_patterns = [\"W_ER_1\", \"W_A_1\", \"W_M_1\"]\n",
    "    tline_patterns = [\"T_ER_1\", \"T_A_1\", \"T_M_1\"]\n",
    "\n",
    "    # Function to check if any of the patterns are found in the CSV file contents\n",
    "    def file_contains_any_pattern(file_path, patterns):\n",
    "        try:\n",
    "            with open(file_path, 'r', newline='', encoding='utf-8') as csvfile:\n",
    "                reader = csv.reader(csvfile)\n",
    "                for row in reader:\n",
    "                    # Check if any pattern exists in any of the row's cells\n",
    "                    if any(pattern in cell for cell in row for pattern in patterns):\n",
    "                        return True\n",
    "        except Exception as e:\n",
    "            print(f\"Error reading {file_path}: {e}\")\n",
    "        return False\n",
    "\n",
    "    # Iterate through each CSV file and move it to the correct folder\n",
    "    for csv_file in csv_files:\n",
    "        csv_file_path = os.path.join(processed_directory, csv_file)\n",
    "\n",
    "        # Check if the CSV file content matches any of the solar patterns\n",
    "        if file_contains_any_pattern(csv_file_path, solar_patterns):\n",
    "            shutil.move(csv_file_path, os.path.join(solar_dir, csv_file))\n",
    "            print(f\"Moved {csv_file} to solar folder.\")\n",
    "        \n",
    "        # Check if the CSV file content matches any of the battery patterns\n",
    "        elif file_contains_any_pattern(csv_file_path, battery_patterns):\n",
    "            shutil.move(csv_file_path, os.path.join(battery_dir, csv_file))\n",
    "            print(f\"Moved {csv_file} to battery folder.\")\n",
    "        \n",
    "        # Check if the CSV file content matches any of the wind patterns\n",
    "        elif file_contains_any_pattern(csv_file_path, wind_patterns):\n",
    "            shutil.move(csv_file_path, os.path.join(wind_dir, csv_file))\n",
    "            print(f\"Moved {csv_file} to wind folder.\")\n",
    "        \n",
    "        # Check if the CSV file content matches any of the tline patterns\n",
    "        elif file_contains_any_pattern(csv_file_path, tline_patterns):\n",
    "            shutil.move(csv_file_path, os.path.join(tline_dir, csv_file))\n",
    "            print(f\"Moved {csv_file} to tline folder.\")\n",
    "        \n",
    "        else:\n",
    "            print(f\"File {csv_file} does not match any pattern.\")"
   ]
  },
  {
   "cell_type": "code",
   "execution_count": 9,
   "metadata": {},
   "outputs": [
    {
     "name": "stdout",
     "output_type": "stream",
     "text": [
      "(1/4) Processed battery.xlsx and moved to archive.\n",
      "(2/4) Processed solar.xlsx and moved to archive.\n",
      "(3/4) Processed wind.xlsx and moved to archive.\n",
      "(4/4) Processed wind_1.xlsx and moved to archive.\n"
     ]
    }
   ],
   "source": [
    "convert_xlsx_files_in_directory(raw_excel, archive_excel, raw_csv)"
   ]
  },
  {
   "cell_type": "code",
   "execution_count": 15,
   "metadata": {},
   "outputs": [
    {
     "ename": "FileNotFoundError",
     "evalue": "[WinError 3] The system cannot find the path specified",
     "output_type": "error",
     "traceback": [
      "\u001b[1;31m---------------------------------------------------------------------------\u001b[0m",
      "\u001b[1;31mFileNotFoundError\u001b[0m                         Traceback (most recent call last)",
      "File \u001b[1;32mc:\\Users\\sadoo\\AppData\\Local\\Programs\\Python\\Python312\\Lib\\shutil.py:874\u001b[0m, in \u001b[0;36mmove\u001b[1;34m(src, dst, copy_function)\u001b[0m\n\u001b[0;32m    873\u001b[0m \u001b[38;5;28;01mtry\u001b[39;00m:\n\u001b[1;32m--> 874\u001b[0m     \u001b[43mos\u001b[49m\u001b[38;5;241;43m.\u001b[39;49m\u001b[43mrename\u001b[49m\u001b[43m(\u001b[49m\u001b[43msrc\u001b[49m\u001b[43m,\u001b[49m\u001b[43m \u001b[49m\u001b[43mreal_dst\u001b[49m\u001b[43m)\u001b[49m\n\u001b[0;32m    875\u001b[0m \u001b[38;5;28;01mexcept\u001b[39;00m \u001b[38;5;167;01mOSError\u001b[39;00m:\n",
      "\u001b[1;31mFileNotFoundError\u001b[0m: [WinError 3] The system cannot find the path specified: 'C:/Users/sadoo/OneDrive/Desktop/Lambda/raw_csv\\\\battery_Assump.csv' -> 'C:/Users/sadoo/OneDrive/Desktop/Lambda/final_destination\\\\battery\\\\battery_Assump.csv'",
      "\nDuring handling of the above exception, another exception occurred:\n",
      "\u001b[1;31mFileNotFoundError\u001b[0m                         Traceback (most recent call last)",
      "Cell \u001b[1;32mIn[15], line 1\u001b[0m\n\u001b[1;32m----> 1\u001b[0m \u001b[43mmove_csv_files_to_final_destination\u001b[49m\u001b[43m(\u001b[49m\u001b[43mraw_csv\u001b[49m\u001b[43m,\u001b[49m\u001b[43m \u001b[49m\u001b[43mfinal_destination\u001b[49m\u001b[43m)\u001b[49m\n",
      "Cell \u001b[1;32mIn[5], line 41\u001b[0m, in \u001b[0;36mmove_csv_files_to_final_destination\u001b[1;34m(processed_directory, final_destination)\u001b[0m\n\u001b[0;32m     39\u001b[0m \u001b[38;5;66;03m# Check if the CSV file content matches any of the battery patterns\u001b[39;00m\n\u001b[0;32m     40\u001b[0m \u001b[38;5;28;01melif\u001b[39;00m file_contains_any_pattern(csv_file_path, battery_patterns):\n\u001b[1;32m---> 41\u001b[0m     \u001b[43mshutil\u001b[49m\u001b[38;5;241;43m.\u001b[39;49m\u001b[43mmove\u001b[49m\u001b[43m(\u001b[49m\u001b[43mcsv_file_path\u001b[49m\u001b[43m,\u001b[49m\u001b[43m \u001b[49m\u001b[43mos\u001b[49m\u001b[38;5;241;43m.\u001b[39;49m\u001b[43mpath\u001b[49m\u001b[38;5;241;43m.\u001b[39;49m\u001b[43mjoin\u001b[49m\u001b[43m(\u001b[49m\u001b[43mbattery_dir\u001b[49m\u001b[43m,\u001b[49m\u001b[43m \u001b[49m\u001b[43mcsv_file\u001b[49m\u001b[43m)\u001b[49m\u001b[43m)\u001b[49m\n\u001b[0;32m     42\u001b[0m     \u001b[38;5;28mprint\u001b[39m(\u001b[38;5;124mf\u001b[39m\u001b[38;5;124m\"\u001b[39m\u001b[38;5;124mMoved \u001b[39m\u001b[38;5;132;01m{\u001b[39;00mcsv_file\u001b[38;5;132;01m}\u001b[39;00m\u001b[38;5;124m to battery folder.\u001b[39m\u001b[38;5;124m\"\u001b[39m)\n\u001b[0;32m     44\u001b[0m \u001b[38;5;66;03m# Check if the CSV file content matches any of the wind patterns\u001b[39;00m\n",
      "File \u001b[1;32mc:\\Users\\sadoo\\AppData\\Local\\Programs\\Python\\Python312\\Lib\\shutil.py:894\u001b[0m, in \u001b[0;36mmove\u001b[1;34m(src, dst, copy_function)\u001b[0m\n\u001b[0;32m    892\u001b[0m         rmtree(src)\n\u001b[0;32m    893\u001b[0m     \u001b[38;5;28;01melse\u001b[39;00m:\n\u001b[1;32m--> 894\u001b[0m         \u001b[43mcopy_function\u001b[49m\u001b[43m(\u001b[49m\u001b[43msrc\u001b[49m\u001b[43m,\u001b[49m\u001b[43m \u001b[49m\u001b[43mreal_dst\u001b[49m\u001b[43m)\u001b[49m\n\u001b[0;32m    895\u001b[0m         os\u001b[38;5;241m.\u001b[39munlink(src)\n\u001b[0;32m    896\u001b[0m \u001b[38;5;28;01mreturn\u001b[39;00m real_dst\n",
      "File \u001b[1;32mc:\\Users\\sadoo\\AppData\\Local\\Programs\\Python\\Python312\\Lib\\shutil.py:448\u001b[0m, in \u001b[0;36mcopy2\u001b[1;34m(src, dst, follow_symlinks)\u001b[0m\n\u001b[0;32m    446\u001b[0m     flags \u001b[38;5;241m|\u001b[39m\u001b[38;5;241m=\u001b[39m _winapi\u001b[38;5;241m.\u001b[39mCOPY_FILE_COPY_SYMLINK\n\u001b[0;32m    447\u001b[0m \u001b[38;5;28;01mtry\u001b[39;00m:\n\u001b[1;32m--> 448\u001b[0m     \u001b[43m_winapi\u001b[49m\u001b[38;5;241;43m.\u001b[39;49m\u001b[43mCopyFile2\u001b[49m\u001b[43m(\u001b[49m\u001b[43msrc_\u001b[49m\u001b[43m,\u001b[49m\u001b[43m \u001b[49m\u001b[43mdst_\u001b[49m\u001b[43m,\u001b[49m\u001b[43m \u001b[49m\u001b[43mflags\u001b[49m\u001b[43m)\u001b[49m\n\u001b[0;32m    449\u001b[0m     \u001b[38;5;28;01mreturn\u001b[39;00m dst\n\u001b[0;32m    450\u001b[0m \u001b[38;5;28;01mexcept\u001b[39;00m \u001b[38;5;167;01mOSError\u001b[39;00m \u001b[38;5;28;01mas\u001b[39;00m exc:\n",
      "\u001b[1;31mFileNotFoundError\u001b[0m: [WinError 3] The system cannot find the path specified"
     ]
    }
   ],
   "source": [
    "move_csv_files_to_final_destination(raw_csv, final_destination)"
   ]
  },
  {
   "cell_type": "code",
   "execution_count": null,
   "metadata": {},
   "outputs": [],
   "source": []
  }
 ],
 "metadata": {
  "kernelspec": {
   "display_name": "Python 3",
   "language": "python",
   "name": "python3"
  },
  "language_info": {
   "codemirror_mode": {
    "name": "ipython",
    "version": 3
   },
   "file_extension": ".py",
   "mimetype": "text/x-python",
   "name": "python",
   "nbconvert_exporter": "python",
   "pygments_lexer": "ipython3",
   "version": "3.12.1"
  }
 },
 "nbformat": 4,
 "nbformat_minor": 2
}
